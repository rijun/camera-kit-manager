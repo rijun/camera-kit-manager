{
 "cells": [
  {
   "cell_type": "code",
   "id": "initial_id",
   "metadata": {
    "collapsed": true,
    "ExecuteTime": {
     "end_time": "2024-10-31T09:52:30.576337Z",
     "start_time": "2024-10-31T09:52:30.574230Z"
    }
   },
   "source": [
    "import sqlite3\n",
    "from io import StringIO\n",
    "\n",
    "import matplotlib.pyplot as plt"
   ],
   "outputs": [],
   "execution_count": 26
  },
  {
   "metadata": {
    "ExecuteTime": {
     "end_time": "2024-10-31T09:46:17.949918Z",
     "start_time": "2024-10-31T09:46:17.919484Z"
    }
   },
   "cell_type": "code",
   "source": [
    "database = 'db.sqlite3'\n",
    "conn = sqlite3.connect(database)\n",
    "c = conn.cursor()\n",
    "c.execute(\"SELECT name, manufacturer, focal_length, weight FROM kit_comparison_kit_lenses \"\n",
    "                \"INNER JOIN kit_comparison_lens ON lens_id = kit_comparison_lens.id WHERE kit_id = 1\")\n",
    "names = []\n",
    "focal_lengths = []\n",
    "weights = []\n",
    "for row in c:\n",
    "    names.append(f\"{row[1]} {row[0]}\")\n",
    "    focal_lengths.append([int(x) for x in row[2].split('-')])\n",
    "    weights.append(int(row[3]))\n",
    "c.close()\n",
    "conn.close()"
   ],
   "id": "5666c6aeace67dc",
   "outputs": [],
   "execution_count": 8
  },
  {
   "metadata": {
    "ExecuteTime": {
     "end_time": "2024-10-31T09:46:20.099037Z",
     "start_time": "2024-10-31T09:46:20.096534Z"
    }
   },
   "cell_type": "code",
   "source": "focal_lengths",
   "id": "f671c828fed85d32",
   "outputs": [
    {
     "data": {
      "text/plain": [
       "[[28, 75], [70, 180], [85]]"
      ]
     },
     "execution_count": 9,
     "metadata": {},
     "output_type": "execute_result"
    }
   ],
   "execution_count": 9
  },
  {
   "metadata": {
    "ExecuteTime": {
     "end_time": "2024-10-31T09:52:13.266295Z",
     "start_time": "2024-10-31T09:52:13.225343Z"
    }
   },
   "cell_type": "code",
   "source": [
    "plt.style.use('_mpl-gallery')\n",
    "\n",
    "fig, ax = plt.subplots()\n",
    "for i, fl in enumerate(focal_lengths):\n",
    "    if len(fl) == 1:\n",
    "        ax.broken_barh([(fl[0], 5)], ((1 + i)  * 10 + 2.5, 5), facecolors='tab:blue')\n",
    "    else:\n",
    "        ax.broken_barh([(fl[0], fl[1] - fl[0])], ((1 + i)  * 10 + 2.5, 5), facecolors='tab:blue')\n",
    "ax.set_ylim(5, 45)\n",
    "ax.set_xlim(0, 400)\n",
    "ax.set_yticks([15 + i * 10 for i in range(len(names))], labels=names)\n",
    "ax.grid(True)"
   ],
   "id": "9079ab7ba4703ac1",
   "outputs": [
    {
     "data": {
      "text/plain": [
       "<Figure size 200x200 with 1 Axes>"
      ],
      "image/png": "[encoded data removed]"
     },
     "metadata": {},
     "output_type": "display_data"
    }
   ],
   "execution_count": 24
  },
  {
   "metadata": {
    "ExecuteTime": {
     "end_time": "2024-10-31T09:52:33.037967Z",
     "start_time": "2024-10-31T09:52:33.032726Z"
    }
   },
   "cell_type": "code",
   "source": [
    "i = StringIO()\n",
    "plt.savefig(i, format=\"svg\")"
   ],
   "id": "89523a79d1bbceba",
   "outputs": [
    {
     "name": "stdout",
     "output_type": "stream",
     "text": [
      "<?xml version=\"1.0\" encoding=\"utf-8\" standalone=\"no\"?>\n",
      "<!DOCTYPE svg PUBLIC \"-//W3C//DTD SVG 1.1//EN\"\n",
      "  \"http://www.w3.org/Graphics/SVG/1.1/DTD/svg11.dtd\">\n",
      "<svg xmlns:xlink=\"http://www.w3.org/1999/xlink\" width=\"144pt\" height=\"144pt\" viewBox=\"0 0 144 144\" xmlns=\"http://www.w3.org/2000/svg\" version=\"1.1\">\n",
      " <metadata>\n",
      "  <rdf:RDF xmlns:dc=\"http://purl.org/dc/elements/1.1/\" xmlns:cc=\"http://creativecommons.org/ns#\" xmlns:rdf=\"http://www.w3.org/1999/02/22-rdf-syntax-ns#\">\n",
      "   <cc:Work>\n",
      "    <dc:type rdf:resource=\"http://purl.org/dc/dcmitype/StillImage\"/>\n",
      "    <dc:date>2024-10-31T10:52:33.035725</dc:date>\n",
      "    <dc:format>image/svg+xml</dc:format>\n",
      "    <dc:creator>\n",
      "     <cc:Agent>\n",
      "      <dc:title>Matplotlib v3.9.2, https://matplotlib.org/</dc:title>\n",
      "     </cc:Agent>\n",
      "    </dc:creator>\n",
      "   </cc:Work>\n",
      "  </rdf:RDF>\n",
      " </metadata>\n",
      " <defs>\n",
      "  <style type=\"text/css\">*{stroke-linejoin: round; stroke-linecap: butt}</style>\n",
      " </defs>\n",
      " <g id=\"figure_1\">\n",
      "  <g id=\"patch_1\">\n",
      "   <path d=\"M 0 144 \n",
      "L 144 144 \n",
      "L 144 0 \n",
      "L 0 0 \n",
      "z\n",
      "\" style=\"fill: #ffffff\"/>\n",
      "  </g>\n",
      " </g>\n",
      "</svg>\n",
      "\n"
     ]
    },
    {
     "data": {
      "text/plain": [
       "<Figure size 200x200 with 0 Axes>"
      ]
     },
     "metadata": {},
     "output_type": "display_data"
    }
   ],
   "execution_count": 27
  }
 ],
 "metadata": {
  "kernelspec": {
   "display_name": "Python 3",
   "language": "python",
   "name": "python3"
  },
  "language_info": {
   "codemirror_mode": {
    "name": "ipython",
    "version": 2
   },
   "file_extension": ".py",
   "mimetype": "text/x-python",
   "name": "python",
   "nbconvert_exporter": "python",
   "pygments_lexer": "ipython2",
   "version": "2.7.6"
  }
 },
 "nbformat": 4,
 "nbformat_minor": 5
}
